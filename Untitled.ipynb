{
 "cells": [
  {
   "cell_type": "code",
   "execution_count": 50,
   "metadata": {},
   "outputs": [
    {
     "name": "stdout",
     "output_type": "stream",
     "text": [
      "Stopping app_db_1 ... \n",
      "\u001b[1Bping app_db_1 ... \u001b[32mdone\u001b[0mRemoving app_manager_run_34a6873086cc ... \n",
      "Removing app_manager_run_7658ba53d4f7 ... \n",
      "Removing app_manager_run_fe3d80891de0 ... \n",
      "Removing app_db_1                     ... \n",
      "\u001b[1BRemoving network app_default      ... \u001b[32mdone\u001b[0m\u001b[1A\u001b[2K\n"
     ]
    }
   ],
   "source": [
    "!docker-compose down --volumes"
   ]
  },
  {
   "cell_type": "code",
   "execution_count": 51,
   "metadata": {},
   "outputs": [
    {
     "name": "stdout",
     "output_type": "stream",
     "text": [
      "db uses an image, skipping\n",
      "Building manager\n",
      "Step 1/7 : FROM python:latest\n",
      " ---> dfc47c6cee13\n",
      "Step 2/7 : RUN pip install psycopg2\n",
      " ---> Using cache\n",
      " ---> 36ead761bf4a\n",
      "Step 3/7 : COPY . ohoh/\n",
      " ---> Using cache\n",
      " ---> 8224bb049339\n",
      "Step 4/7 : RUN wget https://raw.githubusercontent.com/vishnubob/wait-for-it/master/wait-for-it.sh -P /\n",
      " ---> Using cache\n",
      " ---> ecfeebc89be9\n",
      "Step 5/7 : RUN chmod +x /wait-for-it.sh\n",
      " ---> Using cache\n",
      " ---> 2e996c3cd0f2\n",
      "Step 6/7 : ENTRYPOINT [\"/wait-for-it.sh\", \"db:5432\", \"--\"]\n",
      " ---> Using cache\n",
      " ---> f16125db80f7\n",
      "Step 7/7 : CMD [\"python\", \"-m\", \"ohoh\"]\n",
      " ---> Using cache\n",
      " ---> 789af0ef1b06\n",
      "Successfully built 789af0ef1b06\n",
      "Successfully tagged app_manager:latest\n",
      "Creating network \"app_default\" with the default driver\n",
      "Creating app_db_1 ... \n",
      "\u001b[1Bting app_db_1 ... \u001b[32mdone\u001b[0mwait-for-it.sh: waiting 15 seconds for db:5432\n",
      "wait-for-it.sh: db:5432 is available after 2 seconds\n",
      "Successfully connected to Postgres Server\n",
      "\n",
      "Created table successfully\n",
      "\n",
      "Added the CSV successfully !\n"
     ]
    }
   ],
   "source": [
    "!docker-compose build && docker-compose run manager"
   ]
  },
  {
   "cell_type": "code",
   "execution_count": 52,
   "metadata": {},
   "outputs": [],
   "source": [
    "output = !docker-compose  run -e TESTING=1  manager"
   ]
  },
  {
   "cell_type": "code",
   "execution_count": 53,
   "metadata": {},
   "outputs": [
    {
     "data": {
      "text/plain": [
       "20.0"
      ]
     },
     "execution_count": 53,
     "metadata": {},
     "output_type": "execute_result"
    }
   ],
   "source": [
    "round((6 - sum(map(int, output[-2:])))/6*20, 1)"
   ]
  },
  {
   "cell_type": "code",
   "execution_count": null,
   "metadata": {},
   "outputs": [],
   "source": []
  }
 ],
 "metadata": {
  "kernelspec": {
   "display_name": "Python 3",
   "language": "python",
   "name": "python3"
  },
  "language_info": {
   "codemirror_mode": {
    "name": "ipython",
    "version": 3
   },
   "file_extension": ".py",
   "mimetype": "text/x-python",
   "name": "python",
   "nbconvert_exporter": "python",
   "pygments_lexer": "ipython3",
   "version": "3.8.4"
  }
 },
 "nbformat": 4,
 "nbformat_minor": 4
}
